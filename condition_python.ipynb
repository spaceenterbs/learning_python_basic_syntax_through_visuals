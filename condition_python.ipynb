{
 "cells": [
  {
   "cell_type": "code",
   "execution_count": 1,
   "metadata": {},
   "outputs": [
    {
     "name": "stdout",
     "output_type": "stream",
     "text": [
      "No cashback\n"
     ]
    }
   ],
   "source": [
    "total_expenditure = 1000\n",
    "\n",
    "if total_expenditure > 5000:\n",
    "    print(\"1% cashback\")\n",
    "else:\n",
    "    print(\"No cashback\")"
   ]
  },
  {
   "cell_type": "code",
   "execution_count": 2,
   "metadata": {},
   "outputs": [
    {
     "name": "stdout",
     "output_type": "stream",
     "text": [
      "20\n"
     ]
    }
   ],
   "source": [
    "num1 = 10\n",
    "num2 = 20\n",
    "\n",
    "if num1 > num2:\n",
    "    print(num1)\n",
    "else:\n",
    "    print(num2)"
   ]
  },
  {
   "cell_type": "code",
   "execution_count": 1,
   "metadata": {},
   "outputs": [
    {
     "name": "stdout",
     "output_type": "stream",
     "text": [
      "a\n",
      "b\n",
      "c\n"
     ]
    }
   ],
   "source": [
    "카트 = [\"a\", \"b\", \"c\"]\n",
    "for i in 카트:\n",
    "    print(i)"
   ]
  },
  {
   "cell_type": "code",
   "execution_count": 2,
   "metadata": {},
   "outputs": [
    {
     "name": "stdout",
     "output_type": "stream",
     "text": [
      "1000\n",
      "900\n",
      "950\n",
      "1050\n",
      "1100\n"
     ]
    }
   ],
   "source": [
    "day_close = [1000, 900, 950, 1050, 1100]\n",
    "\n",
    "for 종가 in day_close: # day_close 리스트안에 있는 각 종가에 대하여\n",
    "    print(종가)"
   ]
  },
  {
   "cell_type": "code",
   "execution_count": 4,
   "metadata": {},
   "outputs": [
    {
     "name": "stdout",
     "output_type": "stream",
     "text": [
      "1\n",
      "2\n",
      "3\n",
      "4\n",
      "5\n",
      "1 계산 완료\n",
      "2 계산 완료\n",
      "3 계산 완료\n",
      "4 계산 완료\n",
      "5 계산 완료\n"
     ]
    }
   ],
   "source": [
    "과자목록 = [1, 2, 3, 4, 5]\n",
    "for 과자번호 in 과자목록:\n",
    "    print(과자번호)\n",
    "    \n",
    "for 과자번호 in 과자목록:\n",
    "    print(과자번호, \"계산 완료\")"
   ]
  },
  {
   "cell_type": "code",
   "execution_count": 16,
   "metadata": {},
   "outputs": [
    {
     "name": "stdout",
     "output_type": "stream",
     "text": [
      "a\n",
      "100\n",
      "a 100\n",
      "c 100\n",
      "\n",
      "\n",
      "b\n",
      "200\n",
      "b 200\n",
      "c 200\n",
      "\n",
      "\n",
      "c\n",
      "300\n",
      "c 300\n",
      "c 300\n",
      "\n",
      "\n",
      "a 100\n",
      "b 200\n",
      "c 300\n"
     ]
    }
   ],
   "source": [
    "과자 = {\"a\": 100, \"b\": 200, \"c\": 300}\n",
    "for 과자종류 in 과자:\n",
    "    print(과자종류) # print(i) 하면 c만 나옴, 뭐지?\n",
    "    print(과자[과자종류]) # key로 인덱싱하여 value를 얻을 수 있다.\n",
    "    print(과자종류, 과자[과자종류])\n",
    "    과자가격 = 과자[과자종류]\n",
    "    print(i, 과자가격)\n",
    "    print(\"\\n\")\n",
    "    \n",
    "for k, v in 과자.items():\n",
    "    print(k, v)"
   ]
  },
  {
   "cell_type": "code",
   "execution_count": 18,
   "metadata": {},
   "outputs": [
    {
     "name": "stdout",
     "output_type": "stream",
     "text": [
      "0\n",
      "1\n",
      "2\n",
      "3\n",
      "4\n",
      "5\n",
      "6\n",
      "7\n",
      "8\n",
      "9\n",
      "1\n",
      "3\n",
      "5\n",
      "7\n"
     ]
    }
   ],
   "source": [
    "for i in range(10): # 0부터 9까지\n",
    "    print(i)\n",
    "for i in range(1, 9, 2): # range(start, end, step) step은 생략 가능 end-1까지\n",
    "    print(i)\n",
    "\n",
    "    "
   ]
  },
  {
   "cell_type": "code",
   "execution_count": 4,
   "metadata": {},
   "outputs": [
    {
     "name": "stdout",
     "output_type": "stream",
     "text": [
      "0 꼬깔\n",
      "1 새우\n",
      "2 포카\n",
      "3 프링\n",
      "4 오징\n",
      "0 꼬깔\n",
      "1 새우\n",
      "2 포카\n",
      "3 프링\n",
      "4 오징\n"
     ]
    }
   ],
   "source": [
    "과자 = [\"꼬깔\", \"새우\", \"포카\", \"프링\", \"오징\"]\n",
    "\n",
    "for i in range(5): # 0부터 4까지\n",
    "    print(i, 과자[i])\n",
    "    \n",
    "for i, v in enumerate(과자):\n",
    "    print(i, v)"
   ]
  },
  {
   "cell_type": "code",
   "execution_count": 5,
   "metadata": {},
   "outputs": [
    {
     "name": "stdout",
     "output_type": "stream",
     "text": [
      "파이썬 1\n",
      "파이썬 2\n",
      "파이썬 3\n"
     ]
    }
   ],
   "source": [
    "for i in range(1, 4):\n",
    "    print(\"파이썬\", i)"
   ]
  },
  {
   "cell_type": "code",
   "execution_count": 6,
   "metadata": {},
   "outputs": [
    {
     "name": "stdout",
     "output_type": "stream",
     "text": [
      "꼬 2000 1800.0\n",
      "새 3800 3420.0\n",
      "포 1200 1080.0\n"
     ]
    }
   ],
   "source": [
    "과자 = {\n",
    "    \"꼬\": 2000,\n",
    "    \"새\": 3800,\n",
    "    \"포\": 1200\n",
    "}\n",
    "\n",
    "for 이름, 정가 in 과자.items():\n",
    "    print(이름, 정가, 정가 * 0.9)"
   ]
  },
  {
   "cell_type": "code",
   "execution_count": 7,
   "metadata": {},
   "outputs": [
    {
     "name": "stdout",
     "output_type": "stream",
     "text": [
      "산딸기\n",
      "바나나\n"
     ]
    }
   ],
   "source": [
    "# 반복문 내의 조건문\n",
    "과일목록 = {'참외', '사과', '바나나', '산딸기'}\n",
    "\n",
    "for 과일 in 과일목록:\n",
    "    if len(과일) >= 3:\n",
    "        print(과일)"
   ]
  },
  {
   "cell_type": "code",
   "execution_count": 10,
   "metadata": {},
   "outputs": [
    {
     "name": "stdout",
     "output_type": "stream",
     "text": [
      "['LG전자', 'SK하이닉스', '현대자동차']\n"
     ]
    }
   ],
   "source": [
    "comp = [\n",
    "    [\"삼성전자\", 15.75],\n",
    "    [\"LG전자\", 8.75],\n",
    "    [\"SK하이닉스\", 2.23],\n",
    "    [\"현대자동차\", 4.23]\n",
    "]\n",
    "\n",
    "result = [] # 조건을 만족할 기업명을 추가할 리스트\n",
    "\n",
    "for i in comp:\n",
    "    name = i[0]\n",
    "    per = i[1]\n",
    "    if per < 10:\n",
    "        result.append(name)\n",
    "        \n",
    "print(result)"
   ]
  },
  {
   "cell_type": "code",
   "execution_count": 13,
   "metadata": {},
   "outputs": [
    {
     "name": "stdout",
     "output_type": "stream",
     "text": [
      "['꼬깔', '새우', '포카']\n"
     ]
    }
   ],
   "source": [
    "과자 = {\"꼬깔\": 1000, \"새우\": 1500, \"포카\": 2000, \"프링\": 2500, \"오징\": 3000}\n",
    "\n",
    "과자목록 = []\n",
    "for 이름, 가격 in 과자.items():\n",
    "    if 가격 <= 2000:\n",
    "        과자목록.append(이름)\n",
    "        \n",
    "print(과자목록)"
   ]
  },
  {
   "cell_type": "code",
   "execution_count": 14,
   "metadata": {},
   "outputs": [
    {
     "name": "stdout",
     "output_type": "stream",
     "text": [
      "0\n",
      "1\n",
      "2\n",
      "3\n",
      "끝\n"
     ]
    }
   ],
   "source": [
    "for i in range(5):\n",
    "    if i >3:\n",
    "        break\n",
    "    print(i)\n",
    "print(\"끝\")"
   ]
  },
  {
   "cell_type": "code",
   "execution_count": 15,
   "metadata": {},
   "outputs": [
    {
     "name": "stdout",
     "output_type": "stream",
     "text": [
      "1\n",
      "3\n"
     ]
    }
   ],
   "source": [
    "for i in range(4):\n",
    "    if i % 2 == 0:\n",
    "        continue\n",
    "    print(i)"
   ]
  },
  {
   "cell_type": "code",
   "execution_count": 16,
   "metadata": {},
   "outputs": [
    {
     "name": "stdout",
     "output_type": "stream",
     "text": [
      "['꼬깔', '새우', '포카']\n",
      "4500\n"
     ]
    }
   ],
   "source": [
    "과자 = {\"꼬깔\": 1000, \"새우\": 1500, \"포카\": 2000, \"프링\": 2500, \"오징\": 3000}\n",
    "\n",
    "과자리스트 = []\n",
    "과자가격합 = 0\n",
    "\n",
    "for 이름, 가격 in 과자.items():\n",
    "    if 과자가격합 + 가격 > 5000:\n",
    "        break\n",
    "    과자리스트.append(이름)\n",
    "    과자가격합 += 가격\n",
    "    \n",
    "print(과자리스트)\n",
    "print(과자가격합)"
   ]
  },
  {
   "cell_type": "code",
   "execution_count": 17,
   "metadata": {},
   "outputs": [
    {
     "name": "stdout",
     "output_type": "stream",
     "text": [
      "02나 1234\n",
      "01가 1234\n"
     ]
    }
   ],
   "source": [
    "번호리스트 = {\n",
    "    \"01가 1234\",\n",
    "    \"02나 1234\",\n",
    "    \"03다 1234\",\n",
    "    \"04라 1234\",\n",
    "    \"05마 1234\",\n",
    "}\n",
    "for 번호 in 번호리스트:\n",
    "    num = int(번호[:2]) # 문자열 상태의 번호를 정수형으로 변환\n",
    "    \n",
    "    if num >= 3:\n",
    "        continue\n",
    "    print(번호)"
   ]
  },
  {
   "cell_type": "code",
   "execution_count": null,
   "metadata": {},
   "outputs": [],
   "source": []
  },
  {
   "cell_type": "code",
   "execution_count": null,
   "metadata": {},
   "outputs": [],
   "source": []
  },
  {
   "cell_type": "code",
   "execution_count": null,
   "metadata": {},
   "outputs": [],
   "source": []
  },
  {
   "cell_type": "code",
   "execution_count": null,
   "metadata": {},
   "outputs": [],
   "source": []
  },
  {
   "cell_type": "code",
   "execution_count": null,
   "metadata": {},
   "outputs": [],
   "source": []
  },
  {
   "cell_type": "code",
   "execution_count": null,
   "metadata": {},
   "outputs": [],
   "source": []
  }
 ],
 "metadata": {
  "kernelspec": {
   "display_name": "Python 3",
   "language": "python",
   "name": "python3"
  },
  "language_info": {
   "codemirror_mode": {
    "name": "ipython",
    "version": 3
   },
   "file_extension": ".py",
   "mimetype": "text/x-python",
   "name": "python",
   "nbconvert_exporter": "python",
   "pygments_lexer": "ipython3",
   "version": "3.11.3"
  },
  "orig_nbformat": 4
 },
 "nbformat": 4,
 "nbformat_minor": 2
}
