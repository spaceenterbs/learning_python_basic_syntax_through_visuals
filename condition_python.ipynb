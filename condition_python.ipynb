{
 "cells": [
  {
   "cell_type": "code",
   "execution_count": 1,
   "metadata": {},
   "outputs": [
    {
     "name": "stdout",
     "output_type": "stream",
     "text": [
      "No cashback\n"
     ]
    }
   ],
   "source": [
    "total_expenditure = 1000\n",
    "\n",
    "if total_expenditure > 5000:\n",
    "    print(\"1% cashback\")\n",
    "else:\n",
    "    print(\"No cashback\")"
   ]
  },
  {
   "cell_type": "code",
   "execution_count": 2,
   "metadata": {},
   "outputs": [
    {
     "name": "stdout",
     "output_type": "stream",
     "text": [
      "20\n"
     ]
    }
   ],
   "source": [
    "num1 = 10\n",
    "num2 = 20\n",
    "\n",
    "if num1 > num2:\n",
    "    print(num1)\n",
    "else:\n",
    "    print(num2)"
   ]
  },
  {
   "cell_type": "code",
   "execution_count": 1,
   "metadata": {},
   "outputs": [
    {
     "name": "stdout",
     "output_type": "stream",
     "text": [
      "a\n",
      "b\n",
      "c\n"
     ]
    }
   ],
   "source": [
    "카트 = [\"a\", \"b\", \"c\"]\n",
    "for i in 카트:\n",
    "    print(i)"
   ]
  },
  {
   "cell_type": "code",
   "execution_count": 2,
   "metadata": {},
   "outputs": [
    {
     "name": "stdout",
     "output_type": "stream",
     "text": [
      "1000\n",
      "900\n",
      "950\n",
      "1050\n",
      "1100\n"
     ]
    }
   ],
   "source": [
    "day_close = [1000, 900, 950, 1050, 1100]\n",
    "\n",
    "for 종가 in day_close: # day_close 리스트안에 있는 각 종가에 대하여\n",
    "    print(종가)"
   ]
  },
  {
   "cell_type": "code",
   "execution_count": 4,
   "metadata": {},
   "outputs": [
    {
     "name": "stdout",
     "output_type": "stream",
     "text": [
      "1\n",
      "2\n",
      "3\n",
      "4\n",
      "5\n",
      "1 계산 완료\n",
      "2 계산 완료\n",
      "3 계산 완료\n",
      "4 계산 완료\n",
      "5 계산 완료\n"
     ]
    }
   ],
   "source": [
    "과자목록 = [1, 2, 3, 4, 5]\n",
    "for 과자번호 in 과자목록:\n",
    "    print(과자번호)\n",
    "    \n",
    "for 과자번호 in 과자목록:\n",
    "    print(과자번호, \"계산 완료\")"
   ]
  },
  {
   "cell_type": "code",
   "execution_count": 16,
   "metadata": {},
   "outputs": [
    {
     "name": "stdout",
     "output_type": "stream",
     "text": [
      "a\n",
      "100\n",
      "a 100\n",
      "c 100\n",
      "\n",
      "\n",
      "b\n",
      "200\n",
      "b 200\n",
      "c 200\n",
      "\n",
      "\n",
      "c\n",
      "300\n",
      "c 300\n",
      "c 300\n",
      "\n",
      "\n",
      "a 100\n",
      "b 200\n",
      "c 300\n"
     ]
    }
   ],
   "source": [
    "과자 = {\"a\": 100, \"b\": 200, \"c\": 300}\n",
    "for 과자종류 in 과자:\n",
    "    print(과자종류) # print(i) 하면 c만 나옴, 뭐지?\n",
    "    print(과자[과자종류]) # key로 인덱싱하여 value를 얻을 수 있다.\n",
    "    print(과자종류, 과자[과자종류])\n",
    "    과자가격 = 과자[과자종류]\n",
    "    print(i, 과자가격)\n",
    "    print(\"\\n\")\n",
    "    \n",
    "for k, v in 과자.items():\n",
    "    print(k, v)"
   ]
  },
  {
   "cell_type": "code",
   "execution_count": null,
   "metadata": {},
   "outputs": [],
   "source": []
  },
  {
   "cell_type": "code",
   "execution_count": null,
   "metadata": {},
   "outputs": [],
   "source": []
  },
  {
   "cell_type": "code",
   "execution_count": null,
   "metadata": {},
   "outputs": [],
   "source": []
  },
  {
   "cell_type": "code",
   "execution_count": null,
   "metadata": {},
   "outputs": [],
   "source": []
  },
  {
   "cell_type": "code",
   "execution_count": null,
   "metadata": {},
   "outputs": [],
   "source": []
  },
  {
   "cell_type": "code",
   "execution_count": null,
   "metadata": {},
   "outputs": [],
   "source": []
  },
  {
   "cell_type": "code",
   "execution_count": null,
   "metadata": {},
   "outputs": [],
   "source": []
  },
  {
   "cell_type": "code",
   "execution_count": null,
   "metadata": {},
   "outputs": [],
   "source": []
  },
  {
   "cell_type": "code",
   "execution_count": null,
   "metadata": {},
   "outputs": [],
   "source": []
  },
  {
   "cell_type": "code",
   "execution_count": null,
   "metadata": {},
   "outputs": [],
   "source": []
  },
  {
   "cell_type": "code",
   "execution_count": null,
   "metadata": {},
   "outputs": [],
   "source": []
  },
  {
   "cell_type": "code",
   "execution_count": null,
   "metadata": {},
   "outputs": [],
   "source": []
  },
  {
   "cell_type": "code",
   "execution_count": null,
   "metadata": {},
   "outputs": [],
   "source": []
  }
 ],
 "metadata": {
  "kernelspec": {
   "display_name": "Python 3",
   "language": "python",
   "name": "python3"
  },
  "language_info": {
   "codemirror_mode": {
    "name": "ipython",
    "version": 3
   },
   "file_extension": ".py",
   "mimetype": "text/x-python",
   "name": "python",
   "nbconvert_exporter": "python",
   "pygments_lexer": "ipython3",
   "version": "3.11.3"
  },
  "orig_nbformat": 4
 },
 "nbformat": 4,
 "nbformat_minor": 2
}
