{
 "cells": [
  {
   "cell_type": "code",
   "execution_count": 5,
   "metadata": {},
   "outputs": [
    {
     "name": "stdout",
     "output_type": "stream",
     "text": [
      "['월드콘', '메로나', '스크류바']\n",
      "['월드콘', '메로나']\n",
      "['메로나', '스크류바']\n",
      "['월드콘', '메로나', '빵빠레']\n"
     ]
    }
   ],
   "source": [
    "아이스크림 = [\"월드콘\", \"메로나\", \"스크류바\"]\n",
    "print(아이스크림)\n",
    "print(아이스크림[:2])\n",
    "print(아이스크림[1:3])\n",
    "아이스크림[2] = \"빵빠레\"\n",
    "print(아이스크림)"
   ]
  },
  {
   "cell_type": "code",
   "execution_count": 22,
   "metadata": {},
   "outputs": [
    {
     "name": "stdout",
     "output_type": "stream",
     "text": [
      "500 100\n",
      "[500, 400, 300, 200, 100]\n",
      "[500, 400, 300, 200, 100]\n"
     ]
    }
   ],
   "source": [
    "시세 = [100, 200, 300, 400, 500]\n",
    "최댓값 = max(시세)\n",
    "최솟값 = min(시세)\n",
    "print(최댓값, 최솟값)\n",
    "price1 = sorted(시세, reverse=True) # 내림차순 정렬\n",
    "print(price1)\n",
    "\n",
    "시세.sort(reverse=True) # 오름차순 정렬, reverse=True는 내림차순 정렬\n",
    "print(시세)"
   ]
  },
  {
   "cell_type": "code",
   "execution_count": 44,
   "metadata": {},
   "outputs": [
    {
     "name": "stdout",
     "output_type": "stream",
     "text": [
      "['fastapi 배우기', 'fastapi로 프로젝트 만들기']\n",
      "['fastapi 배우기', 'fastapi로 프로젝트 만들기', '월드콘', '메로나', '스크류바']\n",
      "['fastapi 배우기', 'fastapi로 프로젝트 만들기', '월드콘', '메로나', '스크류바', '월드콘', '메로나', '스크류바']\n",
      "{'월드콘': 1000, '메로나': 500, '스크류바': 700}\n",
      "{'메로나': 500, '스크류바': 700}\n",
      "dict_keys(['메로나', '스크류바'])\n",
      "dict_values([500, 700])\n"
     ]
    }
   ],
   "source": [
    "버킷리스트 = []\n",
    "\n",
    "버킷리스트.append(\"fastapi 배우기\")\n",
    "버킷리스트.append(\"fastapi로 프로젝트 만들기\")\n",
    "\n",
    "버킷리스트.insert(1, \"fastapi로 map api를 사용한 프로젝트 구성하기\")\n",
    "\n",
    "del 버킷리스트[1]\n",
    "print(버킷리스트)\n",
    "\n",
    "아이스크림 = [\"월드콘\", \"메로나\", \"스크류바\"]\n",
    "버킷리스트.extend(아이스크림)\n",
    "print(버킷리스트)\n",
    "\n",
    "구매품목 = 버킷리스트 + 아이스크림\n",
    "print(구매품목)\n",
    "\n",
    "버킷리스트.index('월드콘')\n",
    "\n",
    "아이스크림1 = {}\n",
    "아이스크림1['월드콘'] = 1000\n",
    "아이스크림1['메로나'] = 500\n",
    "아이스크림1['스크류바'] = 700\n",
    "print(아이스크림1)\n",
    "\n",
    "del 아이스크림1['월드콘']\n",
    "print(아이스크림1)\n",
    "\n",
    "print(아이스크림1.keys())\n",
    "print(아이스크림1.values())"
   ]
  },
  {
   "cell_type": "code",
   "execution_count": 47,
   "metadata": {},
   "outputs": [
    {
     "name": "stdout",
     "output_type": "stream",
     "text": [
      "[101, 102]\n",
      "101\n",
      "102\n",
      "201\n"
     ]
    }
   ],
   "source": [
    "apart = [[101, 102], [201, 202], [301, 302]]\n",
    "print(apart[0])\n",
    "일층 = apart[0]\n",
    "print(일층[0])\n",
    "print(일층[1])\n",
    "print(apart[1][0])\n",
    "\n",
    "apart1 = [(101, 102), (201, 202), (301, 302)]"
   ]
  },
  {
   "cell_type": "code",
   "execution_count": 25,
   "metadata": {},
   "outputs": [
    {
     "name": "stdout",
     "output_type": "stream",
     "text": [
      "61040.0\n"
     ]
    }
   ],
   "source": [
    "data = [59600, 60900, 60700, 61900, 62100]\n",
    "avg = sum(data) / len(data)\n",
    "print(avg)"
   ]
  },
  {
   "cell_type": "code",
   "execution_count": 48,
   "metadata": {},
   "outputs": [
    {
     "name": "stdout",
     "output_type": "stream",
     "text": [
      "seoul\n"
     ]
    }
   ],
   "source": [
    "# 딕셔너리 중첩\n",
    "apart = {\"name\": \"peace\", \"floor\": 5, \"address\" : {\"city\": \"seoul\", \"dong\": \"dongdaemoon\"}}\n",
    "print(apart[\"address\"][\"city\"])"
   ]
  },
  {
   "cell_type": "code",
   "execution_count": 51,
   "metadata": {},
   "outputs": [
    {
     "name": "stdout",
     "output_type": "stream",
     "text": [
      "<class 'bool'>\n",
      "<class 'bool'>\n"
     ]
    },
    {
     "data": {
      "text/plain": [
       "True"
      ]
     },
     "execution_count": 51,
     "metadata": {},
     "output_type": "execute_result"
    }
   ],
   "source": [
    "a = True\n",
    "b = False\n",
    "print(type(a))\n",
    "print(type(b))\n",
    "3 == 3"
   ]
  }
 ],
 "metadata": {
  "kernelspec": {
   "display_name": "Python 3",
   "language": "python",
   "name": "python3"
  },
  "language_info": {
   "codemirror_mode": {
    "name": "ipython",
    "version": 3
   },
   "file_extension": ".py",
   "mimetype": "text/x-python",
   "name": "python",
   "nbconvert_exporter": "python",
   "pygments_lexer": "ipython3",
   "version": "3.11.3"
  },
  "orig_nbformat": 4
 },
 "nbformat": 4,
 "nbformat_minor": 2
}
