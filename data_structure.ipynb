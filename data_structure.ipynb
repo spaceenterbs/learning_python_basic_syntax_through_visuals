{
 "cells": [
  {
   "cell_type": "code",
   "execution_count": 5,
   "metadata": {},
   "outputs": [
    {
     "name": "stdout",
     "output_type": "stream",
     "text": [
      "['월드콘', '메로나', '스크류바']\n",
      "['월드콘', '메로나']\n",
      "['메로나', '스크류바']\n",
      "['월드콘', '메로나', '빵빠레']\n"
     ]
    }
   ],
   "source": [
    "아이스크림 = [\"월드콘\", \"메로나\", \"스크류바\"]\n",
    "print(아이스크림)\n",
    "print(아이스크림[:2])\n",
    "print(아이스크림[1:3])\n",
    "아이스크림[2] = \"빵빠레\"\n",
    "print(아이스크림)"
   ]
  },
  {
   "cell_type": "code",
   "execution_count": 22,
   "metadata": {},
   "outputs": [
    {
     "name": "stdout",
     "output_type": "stream",
     "text": [
      "500 100\n",
      "[500, 400, 300, 200, 100]\n",
      "[500, 400, 300, 200, 100]\n"
     ]
    }
   ],
   "source": [
    "시세 = [100, 200, 300, 400, 500]\n",
    "최댓값 = max(시세)\n",
    "최솟값 = min(시세)\n",
    "print(최댓값, 최솟값)\n",
    "price1 = sorted(시세, reverse=True) # 내림차순 정렬\n",
    "print(price1)\n",
    "\n",
    "시세.sort(reverse=True) # 오름차순 정렬, reverse=True는 내림차순 정렬\n",
    "print(시세)"
   ]
  },
  {
   "cell_type": "code",
   "execution_count": 24,
   "metadata": {},
   "outputs": [
    {
     "name": "stdout",
     "output_type": "stream",
     "text": [
      "['fastapi 배우기', 'fastapi로 프로젝트 만들기']\n",
      "['fastapi 배우기', 'fastapi로 프로젝트 만들기', '월드콘', '메로나', '스크류바']\n",
      "['fastapi 배우기', 'fastapi로 프로젝트 만들기', '월드콘', '메로나', '스크류바', '월드콘', '메로나', '스크류바']\n"
     ]
    },
    {
     "data": {
      "text/plain": [
       "2"
      ]
     },
     "execution_count": 24,
     "metadata": {},
     "output_type": "execute_result"
    }
   ],
   "source": [
    "버킷리스트 = []\n",
    "\n",
    "버킷리스트.append(\"fastapi 배우기\")\n",
    "버킷리스트.append(\"fastapi로 프로젝트 만들기\")\n",
    "\n",
    "버킷리스트.insert(1, \"fastapi로 map api를 사용한 프로젝트 구성하기\")\n",
    "\n",
    "del 버킷리스트[1]\n",
    "print(버킷리스트)\n",
    "\n",
    "아이스크림 = [\"월드콘\", \"메로나\", \"스크류바\"]\n",
    "버킷리스트.extend(아이스크림)\n",
    "print(버킷리스트)\n",
    "\n",
    "구매품목 = 버킷리스트 + 아이스크림\n",
    "print(구매품목)\n",
    "\n",
    "버킷리스트.index('월드콘')"
   ]
  },
  {
   "cell_type": "code",
   "execution_count": 25,
   "metadata": {},
   "outputs": [
    {
     "name": "stdout",
     "output_type": "stream",
     "text": [
      "61040.0\n"
     ]
    }
   ],
   "source": [
    "data = [59600, 60900, 60700, 61900, 62100]\n",
    "avg = sum(data) / len(data)\n",
    "print(avg)"
   ]
  },
  {
   "cell_type": "code",
   "execution_count": 33,
   "metadata": {},
   "outputs": [
    {
     "name": "stdout",
     "output_type": "stream",
     "text": [
      "(533, 404, 498, 506, 499)\n",
      "<class 'tuple'>\n",
      "533\n",
      "(533, 404)\n",
      "<class 'list'>\n",
      "<class 'tuple'>\n"
     ]
    }
   ],
   "source": [
    "시세 = (533, 404, 498, 506, 499)\n",
    "print(시세)\n",
    "print(type(시세))\n",
    "print(시세[0])\n",
    "print(시세[0:2])\n",
    "result1 = list(시세)\n",
    "print(type(result1))\n",
    "result2 = tuple(result1)\n",
    "print(type(result2))"
   ]
  },
  {
   "cell_type": "code",
   "execution_count": null,
   "metadata": {},
   "outputs": [],
   "source": []
  },
  {
   "cell_type": "code",
   "execution_count": null,
   "metadata": {},
   "outputs": [],
   "source": []
  },
  {
   "cell_type": "code",
   "execution_count": null,
   "metadata": {},
   "outputs": [],
   "source": []
  },
  {
   "cell_type": "code",
   "execution_count": null,
   "metadata": {},
   "outputs": [],
   "source": []
  },
  {
   "cell_type": "code",
   "execution_count": null,
   "metadata": {},
   "outputs": [],
   "source": []
  },
  {
   "cell_type": "code",
   "execution_count": null,
   "metadata": {},
   "outputs": [],
   "source": []
  },
  {
   "cell_type": "code",
   "execution_count": null,
   "metadata": {},
   "outputs": [],
   "source": []
  },
  {
   "cell_type": "code",
   "execution_count": null,
   "metadata": {},
   "outputs": [],
   "source": []
  },
  {
   "cell_type": "code",
   "execution_count": null,
   "metadata": {},
   "outputs": [],
   "source": []
  },
  {
   "cell_type": "code",
   "execution_count": null,
   "metadata": {},
   "outputs": [],
   "source": []
  },
  {
   "cell_type": "code",
   "execution_count": null,
   "metadata": {},
   "outputs": [],
   "source": []
  },
  {
   "cell_type": "code",
   "execution_count": null,
   "metadata": {},
   "outputs": [],
   "source": []
  },
  {
   "cell_type": "code",
   "execution_count": null,
   "metadata": {},
   "outputs": [],
   "source": []
  },
  {
   "cell_type": "code",
   "execution_count": null,
   "metadata": {},
   "outputs": [],
   "source": []
  },
  {
   "cell_type": "code",
   "execution_count": null,
   "metadata": {},
   "outputs": [],
   "source": []
  },
  {
   "cell_type": "code",
   "execution_count": null,
   "metadata": {},
   "outputs": [],
   "source": []
  },
  {
   "cell_type": "code",
   "execution_count": null,
   "metadata": {},
   "outputs": [],
   "source": []
  },
  {
   "cell_type": "code",
   "execution_count": null,
   "metadata": {},
   "outputs": [],
   "source": []
  },
  {
   "cell_type": "code",
   "execution_count": null,
   "metadata": {},
   "outputs": [],
   "source": []
  },
  {
   "cell_type": "code",
   "execution_count": null,
   "metadata": {},
   "outputs": [],
   "source": []
  },
  {
   "cell_type": "code",
   "execution_count": null,
   "metadata": {},
   "outputs": [],
   "source": []
  },
  {
   "cell_type": "code",
   "execution_count": null,
   "metadata": {},
   "outputs": [],
   "source": []
  },
  {
   "cell_type": "code",
   "execution_count": null,
   "metadata": {},
   "outputs": [],
   "source": []
  },
  {
   "cell_type": "code",
   "execution_count": null,
   "metadata": {},
   "outputs": [],
   "source": []
  },
  {
   "cell_type": "code",
   "execution_count": null,
   "metadata": {},
   "outputs": [],
   "source": []
  },
  {
   "cell_type": "code",
   "execution_count": null,
   "metadata": {},
   "outputs": [],
   "source": []
  },
  {
   "cell_type": "code",
   "execution_count": null,
   "metadata": {},
   "outputs": [],
   "source": []
  },
  {
   "cell_type": "code",
   "execution_count": null,
   "metadata": {},
   "outputs": [],
   "source": []
  }
 ],
 "metadata": {
  "kernelspec": {
   "display_name": "Python 3",
   "language": "python",
   "name": "python3"
  },
  "language_info": {
   "codemirror_mode": {
    "name": "ipython",
    "version": 3
   },
   "file_extension": ".py",
   "mimetype": "text/x-python",
   "name": "python",
   "nbconvert_exporter": "python",
   "pygments_lexer": "ipython3",
   "version": "3.11.3"
  },
  "orig_nbformat": 4
 },
 "nbformat": 4,
 "nbformat_minor": 2
}
