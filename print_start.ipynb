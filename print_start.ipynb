{
 "cells": [
  {
   "cell_type": "code",
   "execution_count": 1,
   "id": "e9308155",
   "metadata": {},
   "outputs": [
    {
     "name": "stdout",
     "output_type": "stream",
     "text": [
      "Hello World\n"
     ]
    }
   ],
   "source": [
    "print(\"Hello World\")"
   ]
  },
  {
   "cell_type": "code",
   "execution_count": 4,
   "id": "85fe16f5",
   "metadata": {},
   "outputs": [
    {
     "name": "stdout",
     "output_type": "stream",
     "text": [
      "P\n",
      "P\n"
     ]
    }
   ],
   "source": [
    "lang = \"PYTHON3\"\n",
    "print(lang[0])\n",
    "print(lang[-7])"
   ]
  },
  {
   "cell_type": "code",
   "execution_count": 6,
   "id": "8c48349c",
   "metadata": {},
   "outputs": [
    {
     "name": "stdout",
     "output_type": "stream",
     "text": [
      "PYTHON3\n",
      "PYTHON3\n"
     ]
    }
   ],
   "source": [
    "lang = \"PYTHON3\"\n",
    "print(lang[0:7])\n",
    "print(lang[-7:]) # 0은 시작을 가리킨다."
   ]
  },
  {
   "cell_type": "code",
   "execution_count": 14,
   "id": "6ac0ea69",
   "metadata": {},
   "outputs": [
    {
     "name": "stdout",
     "output_type": "stream",
     "text": [
      "PTO3\n",
      "3NOHTYP\n",
      "19801230\n",
      "1234\n",
      "C\n"
     ]
    }
   ],
   "source": [
    "lang = \"PYTHON3\"\n",
    "# 슬라이싱에서 세 번째 값을 지정하면 증감 폭을 설정한다.\n",
    "print(lang[::2])\n",
    "print(lang[::-1])\n",
    "reg_num = \"801230-1234567\"\n",
    "print(\"19\" + reg_num[:6])\n",
    "car_num = \"12가 1234\"\n",
    "print(car_num[-4:])\n",
    "data = \"ABC\"\n",
    "print(data[:][:][:][-1]) # data[:]부터 실행되는데.\n",
    "# 인덱스를 생략했으므로 처음부터 끝까지 전체 문자열을 가져오고 반복 후 마지막에 -1로 인해 C가 선택된다."
   ]
  },
  {
   "cell_type": "code",
   "execution_count": 4,
   "id": "56b636cd",
   "metadata": {},
   "outputs": [
    {
     "name": "stdout",
     "output_type": "stream",
     "text": [
      "2023-09-07\n"
     ]
    },
    {
     "data": {
      "text/plain": [
       "['2023', '09', '07']"
      ]
     },
     "execution_count": 4,
     "metadata": {},
     "output_type": "execute_result"
    }
   ],
   "source": [
    "year = \"2023\"\n",
    "month = \"09\"\n",
    "day = \"07\"\n",
    "date = year + \"-\" + month + \"-\" + day\n",
    "print(date)\n",
    "date.split(\"-\")"
   ]
  },
  {
   "cell_type": "code",
   "execution_count": 2,
   "id": "050bb4ba",
   "metadata": {},
   "outputs": [
    {
     "name": "stdout",
     "output_type": "stream",
     "text": [
      "--------------------\n"
     ]
    }
   ],
   "source": [
    "print(\"-\" * 20)"
   ]
  },
  {
   "cell_type": "code",
   "execution_count": 9,
   "id": "3028c8f5",
   "metadata": {},
   "outputs": [
    {
     "name": "stdout",
     "output_type": "stream",
     "text": [
      "python4\n"
     ]
    },
    {
     "data": {
      "text/plain": [
       "'PYTHON4'"
      ]
     },
     "execution_count": 9,
     "metadata": {},
     "output_type": "execute_result"
    }
   ],
   "source": [
    "lang = \"python3\"\n",
    "lang.upper()\n",
    "# lang[6] = \"4\" # 정수, 실수, 문자열은 값을 변경할 수 없는 타입이다.\n",
    "lang2 = lang.replace(\"3\", \"4\")\n",
    "print(lang2)\n",
    "lang2.upper()"
   ]
  },
  {
   "cell_type": "code",
   "execution_count": 13,
   "id": "d7c23822",
   "metadata": {},
   "outputs": [
    {
     "name": "stdout",
     "output_type": "stream",
     "text": [
      "6\n"
     ]
    },
    {
     "data": {
      "text/plain": [
       "'pyth on3'"
      ]
     },
     "execution_count": 13,
     "metadata": {},
     "output_type": "execute_result"
    }
   ],
   "source": [
    "lang = \"pyth on3   \"\n",
    "lang2 = lang[:6]\n",
    "print(len(lang2))\n",
    "lang.strip() # 문자열의 앞뒤 공백을 제거한다."
   ]
  },
  {
   "cell_type": "code",
   "execution_count": 14,
   "id": "3ff7ebe5",
   "metadata": {},
   "outputs": [
    {
     "data": {
      "text/plain": [
       "'hi world'"
      ]
     },
     "execution_count": 14,
     "metadata": {},
     "output_type": "execute_result"
    }
   ],
   "source": [
    "a = \"hello world\"\n",
    "a = a.replace(\"ello\", \"i\")\n",
    "a"
   ]
  },
  {
   "cell_type": "code",
   "execution_count": 15,
   "id": "1a72e0c8",
   "metadata": {},
   "outputs": [
    {
     "data": {
      "text/plain": [
       "'2022-06-21'"
      ]
     },
     "execution_count": 15,
     "metadata": {},
     "output_type": "execute_result"
    }
   ],
   "source": [
    "a = \" 2022/06/21 \"\n",
    "a = a.replace(\"/\", \"-\")\n",
    "a.strip()"
   ]
  },
  {
   "cell_type": "code",
   "execution_count": 2,
   "id": "605f82e9",
   "metadata": {},
   "outputs": [
    {
     "name": "stdout",
     "output_type": "stream",
     "text": [
      "철수의 총점은 96.66666666666667, 평균은 290입니다. \n"
     ]
    }
   ],
   "source": [
    "name = \"철수\"\n",
    "score = 290\n",
    "average = 290 / 3\n",
    "print(\"{}의 총점은 {}, 평균은 {}입니다. \".format(name, score, average))"
   ]
  },
  {
   "cell_type": "code",
   "execution_count": null,
   "id": "0edbf22f",
   "metadata": {},
   "outputs": [],
   "source": []
  },
  {
   "cell_type": "code",
   "execution_count": null,
   "id": "47ed6771",
   "metadata": {},
   "outputs": [],
   "source": []
  },
  {
   "cell_type": "code",
   "execution_count": null,
   "id": "4a8182ca",
   "metadata": {},
   "outputs": [],
   "source": []
  },
  {
   "cell_type": "code",
   "execution_count": null,
   "id": "3112e55b",
   "metadata": {},
   "outputs": [],
   "source": []
  },
  {
   "cell_type": "code",
   "execution_count": null,
   "id": "5b143859",
   "metadata": {},
   "outputs": [],
   "source": []
  },
  {
   "cell_type": "code",
   "execution_count": null,
   "id": "56938216",
   "metadata": {},
   "outputs": [],
   "source": []
  },
  {
   "cell_type": "code",
   "execution_count": null,
   "id": "c21145f2",
   "metadata": {},
   "outputs": [],
   "source": []
  },
  {
   "cell_type": "code",
   "execution_count": null,
   "id": "5682361f",
   "metadata": {},
   "outputs": [],
   "source": []
  },
  {
   "cell_type": "code",
   "execution_count": null,
   "id": "234efd33",
   "metadata": {},
   "outputs": [],
   "source": []
  },
  {
   "cell_type": "code",
   "execution_count": null,
   "id": "f902b129",
   "metadata": {},
   "outputs": [],
   "source": []
  }
 ],
 "metadata": {
  "kernelspec": {
   "display_name": "Python 3 (ipykernel)",
   "language": "python",
   "name": "python3"
  },
  "language_info": {
   "codemirror_mode": {
    "name": "ipython",
    "version": 3
   },
   "file_extension": ".py",
   "mimetype": "text/x-python",
   "name": "python",
   "nbconvert_exporter": "python",
   "pygments_lexer": "ipython3",
   "version": "3.11.3"
  }
 },
 "nbformat": 4,
 "nbformat_minor": 5
}
