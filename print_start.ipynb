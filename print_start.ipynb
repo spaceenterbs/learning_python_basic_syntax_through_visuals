{
 "cells": [
  {
   "cell_type": "code",
   "execution_count": 1,
   "id": "e9308155",
   "metadata": {},
   "outputs": [
    {
     "name": "stdout",
     "output_type": "stream",
     "text": [
      "Hello World\n"
     ]
    }
   ],
   "source": [
    "print(\"Hello World\")"
   ]
  },
  {
   "cell_type": "code",
   "execution_count": 4,
   "id": "85fe16f5",
   "metadata": {},
   "outputs": [
    {
     "name": "stdout",
     "output_type": "stream",
     "text": [
      "P\n",
      "P\n"
     ]
    }
   ],
   "source": [
    "lang = \"PYTHON3\"\n",
    "print(lang[0])\n",
    "print(lang[-7])"
   ]
  },
  {
   "cell_type": "code",
   "execution_count": 6,
   "id": "8c48349c",
   "metadata": {},
   "outputs": [
    {
     "name": "stdout",
     "output_type": "stream",
     "text": [
      "PYTHON3\n",
      "PYTHON3\n"
     ]
    }
   ],
   "source": [
    "lang = \"PYTHON3\"\n",
    "print(lang[0:7])\n",
    "print(lang[-7:]) # 0은 시작을 가리킨다."
   ]
  },
  {
   "cell_type": "code",
   "execution_count": 14,
   "id": "6ac0ea69",
   "metadata": {},
   "outputs": [
    {
     "name": "stdout",
     "output_type": "stream",
     "text": [
      "PTO3\n",
      "3NOHTYP\n",
      "19801230\n",
      "1234\n",
      "C\n"
     ]
    }
   ],
   "source": [
    "lang = \"PYTHON3\"\n",
    "# 슬라이싱에서 세 번째 값을 지정하면 증감 폭을 설정한다.\n",
    "print(lang[::2])\n",
    "print(lang[::-1])\n",
    "reg_num = \"801230-1234567\"\n",
    "print(\"19\" + reg_num[:6])\n",
    "car_num = \"12가 1234\"\n",
    "print(car_num[-4:])\n",
    "data = \"ABC\"\n",
    "print(data[:][:][:][-1]) # data[:]부터 실행되는데.\n",
    "# 인덱스를 생략했으므로 처음부터 끝까지 전체 문자열을 가져오고 반복 후 마지막에 -1로 인해 C가 선택된다."
   ]
  },
  {
   "cell_type": "code",
   "execution_count": null,
   "id": "56b636cd",
   "metadata": {},
   "outputs": [],
   "source": []
  }
 ],
 "metadata": {
  "kernelspec": {
   "display_name": "Python 3 (ipykernel)",
   "language": "python",
   "name": "python3"
  },
  "language_info": {
   "codemirror_mode": {
    "name": "ipython",
    "version": 3
   },
   "file_extension": ".py",
   "mimetype": "text/x-python",
   "name": "python",
   "nbconvert_exporter": "python",
   "pygments_lexer": "ipython3",
   "version": "3.10.9"
  }
 },
 "nbformat": 4,
 "nbformat_minor": 5
}
